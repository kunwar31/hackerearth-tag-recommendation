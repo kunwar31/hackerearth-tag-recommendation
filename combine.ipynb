{
 "cells": [
  {
   "cell_type": "code",
   "execution_count": null,
   "metadata": {
    "_uuid": "c768246cba66205b6b0aaced4d381d212fb3fefd"
   },
   "outputs": [],
   "source": [
    "import pandas as pd\n",
    "from tqdm import tqdm"
   ]
  },
  {
   "cell_type": "code",
   "execution_count": null,
   "metadata": {
    "_uuid": "c91e07296f807e2ef0e0d7e9555571fdfe690d21"
   },
   "outputs": [],
   "source": [
    "s1 = pd.read_csv('submission1.csv')\n",
    "s2 = pd.read_csv('submission2.csv')\n",
    "s3 = pd.read_csv('submission3.csv')\n",
    "s4 = pd.read_csv('submission4.csv')\n",
    "s5 = pd.read_csv('submission5.csv')\n",
    "s6 = pd.read_csv('submission6.csv')"
   ]
  },
  {
   "cell_type": "code",
   "execution_count": null,
   "metadata": {
    "_uuid": "671c5b5b151aa1da5243b416aa66800b0bf7d9f0"
   },
   "outputs": [],
   "source": [
    "tags = []\n",
    "for tag in s1['tags'].values:\n",
    "    try:\n",
    "        tags.append(tag.split('|'))\n",
    "    except:\n",
    "        tags.append([])\n",
    "for i,tag in enumerate(s2['tags'].values):\n",
    "    try:\n",
    "        tags[i].extend(tag.split('|'))\n",
    "    except:\n",
    "        pass\n",
    "for i,tag in enumerate(s3['tags'].values):\n",
    "    try:\n",
    "        tags[i].extend(tag.split('|'))\n",
    "    except:\n",
    "        pass\n",
    "for i,tag in enumerate(s4['tags'].values):\n",
    "    try:\n",
    "        tags[i].extend(tag.split('|'))\n",
    "    except:\n",
    "        pass\n",
    "for i,tag in enumerate(s5['tags'].values):\n",
    "    try:\n",
    "        tags[i].extend(tag.split('|'))\n",
    "    except:\n",
    "        pass\n",
    "tags[:50]\n",
    "for i,tag in enumerate(s6['tags'].values):\n",
    "    try:\n",
    "        tags[i].extend(tag.split('|'))\n",
    "    except:\n",
    "        pass\n",
    "tags[:50]"
   ]
  },
  {
   "cell_type": "code",
   "execution_count": null,
   "metadata": {
    "_uuid": "a52ea0766db2804ac88d5e7d4ed39b71e8dbc2c9"
   },
   "outputs": [],
   "source": [
    "s1['tags'] = ['|'.join(tag) for tag in tqdm(tags)]\n",
    "s1.to_csv('final_submission.csv',index=False)\n",
    "s1"
   ]
  }
 ],
 "metadata": {
  "kernelspec": {
   "display_name": "Python 3",
   "language": "python",
   "name": "python3"
  },
  "language_info": {
   "codemirror_mode": {
    "name": "ipython",
    "version": 3
   },
   "file_extension": ".py",
   "mimetype": "text/x-python",
   "name": "python",
   "nbconvert_exporter": "python",
   "pygments_lexer": "ipython3",
   "version": "3.6.5"
  }
 },
 "nbformat": 4,
 "nbformat_minor": 2
}
